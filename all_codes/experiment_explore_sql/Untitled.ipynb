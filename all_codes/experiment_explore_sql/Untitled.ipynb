{
 "cells": [
  {
   "cell_type": "code",
   "execution_count": 1,
   "id": "e8c65f14",
   "metadata": {},
   "outputs": [],
   "source": [
    "import pandas as pd\n",
    "import numpy as np\n",
    "import xml.etree.ElementTree as et\n",
    "import pyodbc"
   ]
  },
  {
   "cell_type": "code",
   "execution_count": 64,
   "id": "8d461da8",
   "metadata": {},
   "outputs": [],
   "source": [
    "def clean_df(df):\n",
    "\n",
    "    df['Route Date'] = pd.to_datetime(\n",
    "        df['Route Date'], format=\"%Y-%m-%d\", errors='coerce')\n",
    "    df['Disposal Date'] = pd.to_datetime(\n",
    "        df['Disposal Date'], format=\"%Y-%m-%d\", errors='coerce')\n",
    "    df['Tip In Time'] = pd.to_datetime(\n",
    "        df['Tip In Time'], infer_datetime_format=True, errors='coerce')\n",
    "    df['Tip Out Time'] = pd.to_datetime(\n",
    "        df['Tip Out Time'], infer_datetime_format=True, errors='coerce')\n",
    "    \n",
    "    df['Tip In Time'] = df['Tip In Time'].fillna(pd.to_datetime('2021-10-20 00:00:00',infer_datetime_format=True))      \n",
    "    df['Tip Out Time'] = df['Tip Out Time'].fillna(pd.to_datetime('2021-10-20 00:00:00',infer_datetime_format=True))    \n",
    "    \n",
    "    df['Tip In Time'] = df['Tip In Time'].dt.time\n",
    "    df['Tip Out Time'] = df['Tip Out Time'].dt.time\n",
    "    return df"
   ]
  },
  {
   "cell_type": "code",
   "execution_count": 25,
   "id": "c7c3dfe0",
   "metadata": {},
   "outputs": [],
   "source": [
    "PATH = \"C:\\\\Users\\\\User\\\\Desktop\\\\blob_storage\\\\tip_we\\\\tip_all.xml\"\n",
    "ns = \"{urn:schemas-microsoft-com:office:spreadsheet}\"\n",
    "etree = et.parse(PATH)\n",
    "eroot = etree.getroot()\n",
    "rows_attr = f\"{ns}Row\"\n",
    "data_attr = f\"{ns}Data\"\n",
    "data = list()\n",
    "\n",
    "for r in eroot.iter(tag=rows_attr):\n",
    "    row = np.array([])\n",
    "\n",
    "    for d in r.iter(tag=data_attr):\n",
    "        row = np.append(row, d.text)\n",
    "\n",
    "    row = np.array(row)\n",
    "    data.append(row)\n",
    "\n",
    "df = pd.DataFrame(data=data[1:], columns=data[0]).iloc[1:]"
   ]
  },
  {
   "cell_type": "code",
   "execution_count": 65,
   "id": "23769029",
   "metadata": {},
   "outputs": [],
   "source": [
    "df_2 = clean_df(df)\n"
   ]
  },
  {
   "cell_type": "code",
   "execution_count": 72,
   "id": "a9f6b968",
   "metadata": {},
   "outputs": [
    {
     "data": {
      "text/plain": [
       "313.2090909090909"
      ]
     },
     "execution_count": 72,
     "metadata": {},
     "output_type": "execute_result"
    }
   ],
   "source": [
    "# df_2  00:00:00\n"
   ]
  },
  {
   "cell_type": "code",
   "execution_count": 59,
   "id": "73be9e24",
   "metadata": {},
   "outputs": [
    {
     "data": {
      "text/plain": [
       "1        00:00:00\n",
       "2        00:00:00\n",
       "3        00:00:00\n",
       "4        00:00:00\n",
       "5        00:00:00\n",
       "           ...   \n",
       "86830    00:00:00\n",
       "86831    00:00:00\n",
       "86832    00:00:00\n",
       "86833    00:00:00\n",
       "86834    00:00:00\n",
       "Name: Tip Out Time, Length: 86834, dtype: object"
      ]
     },
     "execution_count": 59,
     "metadata": {},
     "output_type": "execute_result"
    }
   ],
   "source": [
    "df_2['Tip Out Time']\n",
    "\n",
    "# df_2['Tip In Time'] = df_2['Tip In Time'].dt.time\n",
    "df_2['Tip Out Time'] = df_2['Tip In Time'].dt.time\n",
    "\n",
    "# df_2[df_2['Tip Out Time'].lt('20211021')]"
   ]
  },
  {
   "cell_type": "code",
   "execution_count": 24,
   "id": "5335afe5",
   "metadata": {},
   "outputs": [
    {
     "data": {
      "text/html": [
       "<div>\n",
       "<style scoped>\n",
       "    .dataframe tbody tr th:only-of-type {\n",
       "        vertical-align: middle;\n",
       "    }\n",
       "\n",
       "    .dataframe tbody tr th {\n",
       "        vertical-align: top;\n",
       "    }\n",
       "\n",
       "    .dataframe thead th {\n",
       "        text-align: right;\n",
       "    }\n",
       "</style>\n",
       "<table border=\"1\" class=\"dataframe\">\n",
       "  <thead>\n",
       "    <tr style=\"text-align: right;\">\n",
       "      <th></th>\n",
       "      <th>Tip In Time</th>\n",
       "      <th>Tip Out Time</th>\n",
       "    </tr>\n",
       "  </thead>\n",
       "  <tbody>\n",
       "    <tr>\n",
       "      <th>2</th>\n",
       "      <td>0 days</td>\n",
       "      <td>0 days</td>\n",
       "    </tr>\n",
       "    <tr>\n",
       "      <th>3</th>\n",
       "      <td>0 days</td>\n",
       "      <td>0 days</td>\n",
       "    </tr>\n",
       "    <tr>\n",
       "      <th>4</th>\n",
       "      <td>0 days</td>\n",
       "      <td>0 days</td>\n",
       "    </tr>\n",
       "    <tr>\n",
       "      <th>5</th>\n",
       "      <td>0 days</td>\n",
       "      <td>0 days</td>\n",
       "    </tr>\n",
       "    <tr>\n",
       "      <th>6</th>\n",
       "      <td>0 days</td>\n",
       "      <td>0 days</td>\n",
       "    </tr>\n",
       "    <tr>\n",
       "      <th>...</th>\n",
       "      <td>...</td>\n",
       "      <td>...</td>\n",
       "    </tr>\n",
       "    <tr>\n",
       "      <th>96</th>\n",
       "      <td>0 days</td>\n",
       "      <td>0 days</td>\n",
       "    </tr>\n",
       "    <tr>\n",
       "      <th>97</th>\n",
       "      <td>0 days</td>\n",
       "      <td>0 days</td>\n",
       "    </tr>\n",
       "    <tr>\n",
       "      <th>98</th>\n",
       "      <td>0 days</td>\n",
       "      <td>0 days</td>\n",
       "    </tr>\n",
       "    <tr>\n",
       "      <th>99</th>\n",
       "      <td>0 days</td>\n",
       "      <td>0 days</td>\n",
       "    </tr>\n",
       "    <tr>\n",
       "      <th>100</th>\n",
       "      <td>0 days</td>\n",
       "      <td>0 days</td>\n",
       "    </tr>\n",
       "  </tbody>\n",
       "</table>\n",
       "<p>99 rows × 2 columns</p>\n",
       "</div>"
      ],
      "text/plain": [
       "    Tip In Time Tip Out Time\n",
       "2        0 days       0 days\n",
       "3        0 days       0 days\n",
       "4        0 days       0 days\n",
       "5        0 days       0 days\n",
       "6        0 days       0 days\n",
       "..          ...          ...\n",
       "96       0 days       0 days\n",
       "97       0 days       0 days\n",
       "98       0 days       0 days\n",
       "99       0 days       0 days\n",
       "100      0 days       0 days\n",
       "\n",
       "[99 rows x 2 columns]"
      ]
     },
     "execution_count": 24,
     "metadata": {},
     "output_type": "execute_result"
    }
   ],
   "source": [
    "# df_1 = df[['Route Date','Disposal Date']].iloc[1:100]\n",
    "df_2 = df[['Tip In Time', 'Tip Out Time']].iloc[1:100]\n",
    "df_2\n"
   ]
  },
  {
   "cell_type": "code",
   "execution_count": null,
   "id": "5a38a441",
   "metadata": {},
   "outputs": [],
   "source": [
    "df_2"
   ]
  },
  {
   "cell_type": "code",
   "execution_count": 19,
   "id": "b96a39ed",
   "metadata": {},
   "outputs": [
    {
     "ename": "Error",
     "evalue": "('HYC00', '[HYC00] [Microsoft][ODBC SQL Server Driver]Optional feature not implemented (0) (SQLBindParameter)')",
     "output_type": "error",
     "traceback": [
      "\u001b[1;31m---------------------------------------------------------------------------\u001b[0m",
      "\u001b[1;31mError\u001b[0m                                     Traceback (most recent call last)",
      "\u001b[1;32m<ipython-input-19-eaee0dfca359>\u001b[0m in \u001b[0;36m<module>\u001b[1;34m\u001b[0m\n\u001b[0;32m     10\u001b[0m \u001b[1;33m\u001b[0m\u001b[0m\n\u001b[0;32m     11\u001b[0m \u001b[1;32mfor\u001b[0m \u001b[0mindex\u001b[0m\u001b[1;33m,\u001b[0m \u001b[0mrow\u001b[0m \u001b[1;32min\u001b[0m \u001b[0mdf_2\u001b[0m\u001b[1;33m.\u001b[0m\u001b[0miterrows\u001b[0m\u001b[1;33m(\u001b[0m\u001b[1;33m)\u001b[0m\u001b[1;33m:\u001b[0m\u001b[1;33m\u001b[0m\u001b[1;33m\u001b[0m\u001b[0m\n\u001b[1;32m---> 12\u001b[1;33m     cursor.execute(\"INSERT INTO [experiment].[insert_date].[dateformat] \\\n\u001b[0m\u001b[0;32m     13\u001b[0m     \u001b[1;33m(\u001b[0m\u001b[0mdateformat_1\u001b[0m\u001b[1;33m,\u001b[0m\u001b[0mtimeformat_1\u001b[0m\u001b[1;33m)\u001b[0m \u001b[0mvalues\u001b[0m \u001b[1;33m(\u001b[0m\u001b[0;31m?\u001b[0m\u001b[1;33m,\u001b[0m\u001b[0;31m?\u001b[0m\u001b[1;33m)\u001b[0m\u001b[0;31m\"\u001b[0m\u001b[1;33m,\u001b[0m\u001b[1;33m\u001b[0m\u001b[1;33m\u001b[0m\u001b[0m\n\u001b[0;32m     14\u001b[0m                    \u001b[0mrow\u001b[0m\u001b[1;33m[\u001b[0m\u001b[1;34m'Tip In Time'\u001b[0m\u001b[1;33m]\u001b[0m\u001b[1;33m,\u001b[0m\u001b[1;33m\u001b[0m\u001b[1;33m\u001b[0m\u001b[0m\n",
      "\u001b[1;31mError\u001b[0m: ('HYC00', '[HYC00] [Microsoft][ODBC SQL Server Driver]Optional feature not implemented (0) (SQLBindParameter)')"
     ]
    }
   ],
   "source": [
    "server = 'localhost'\n",
    "database = 'STAGE'\n",
    "username = 'SA'\n",
    "password = 'Sydwaste123#'\n",
    "\n",
    "cnxn = pyodbc.connect('DRIVER={SQL Server};SERVER='+server +\n",
    "                      ';DATABASE='+database+';UID='+username+';PWD=' + password)\n",
    "\n",
    "cursor = cnxn.cursor()\n",
    "\n",
    "for index, row in df_2.iterrows():\n",
    "    cursor.execute(\"INSERT INTO [experiment].[insert_date].[dateformat] \\\n",
    "    (dateformat_1,timeformat_1) values (?,?)\",\n",
    "                   row['Tip In Time'],\n",
    "                   row['Tip Out Time']\n",
    "                   )\n",
    "cnxn.commit()\n",
    "cursor.close()\n",
    "cnxn.close()"
   ]
  },
  {
   "cell_type": "code",
   "execution_count": 74,
   "id": "f56ffb2c",
   "metadata": {},
   "outputs": [
    {
     "data": {
      "text/plain": [
       "0.04124926340601061"
      ]
     },
     "execution_count": 74,
     "metadata": {},
     "output_type": "execute_result"
    }
   ],
   "source": []
  },
  {
   "cell_type": "code",
   "execution_count": null,
   "id": "d1acaadb",
   "metadata": {},
   "outputs": [],
   "source": []
  },
  {
   "cell_type": "code",
   "execution_count": null,
   "id": "d4c6aa2c",
   "metadata": {},
   "outputs": [],
   "source": []
  }
 ],
 "metadata": {
  "kernelspec": {
   "display_name": "Python 3",
   "language": "python",
   "name": "python3"
  },
  "language_info": {
   "codemirror_mode": {
    "name": "ipython",
    "version": 3
   },
   "file_extension": ".py",
   "mimetype": "text/x-python",
   "name": "python",
   "nbconvert_exporter": "python",
   "pygments_lexer": "ipython3",
   "version": "3.8.8"
  }
 },
 "nbformat": 4,
 "nbformat_minor": 5
}
