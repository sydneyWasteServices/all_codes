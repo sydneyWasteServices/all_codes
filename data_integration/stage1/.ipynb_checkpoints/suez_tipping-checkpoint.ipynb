{
 "cells": [
  {
   "cell_type": "code",
   "execution_count": 4,
   "id": "c4fa5006",
   "metadata": {},
   "outputs": [],
   "source": [
    "import pandas as pd\n",
    "import numpy as np\n",
    "import pyodbc\n",
    "from datetime import date, datetime  "
   ]
  },
  {
   "cell_type": "code",
   "execution_count": 25,
   "id": "09abc6a5",
   "metadata": {},
   "outputs": [],
   "source": [
    "def clean_df(PATH):\n",
    "    print(PATH)\n",
    "    df = pd.read_csv(PATH, parse_dates=['Date', '1st Weigh', '2nd Weigh'], dtype={\n",
    "      \"Job No\" : np.float64,\n",
    "        'Docket' : str , \n",
    "        'Location' : str, \n",
    "        'Stored tare?' : str,\n",
    "        'Rego' : str, \n",
    "        'Account code' : int, \n",
    "        'Product Code' : int, \n",
    "        'Product name' : str, \n",
    "        'Gross (t)' : np.float64,\n",
    "        'Tare (t)' : np.float64, \n",
    "        'Net (t)' : np.float64, \n",
    "        'Amount ex gst ($)' : np.float64,\n",
    "        'Price per unit' : np.float64\n",
    "    })\n",
    "    df = df.iloc[:,1:]\n",
    "\n",
    "    return df"
   ]
  },
  {
   "cell_type": "code",
   "execution_count": 26,
   "id": "604e0aec",
   "metadata": {},
   "outputs": [
    {
     "name": "stdout",
     "output_type": "stream",
     "text": [
      "C:\\Users\\User\\Desktop\\blob_storage\\tipping_suez\\Suez_All.csv\n"
     ]
    }
   ],
   "source": [
    "PATH = 'C:\\\\Users\\\\User\\\\Desktop\\\\blob_storage\\\\tipping_suez\\\\Suez_All.csv'\n",
    "df = clean_df(PATH)\n",
    "# ArithmeticError"
   ]
  },
  {
   "cell_type": "code",
   "execution_count": 28,
   "id": "e20e1791",
   "metadata": {},
   "outputs": [
    {
     "data": {
      "text/plain": [
       "Index(['Date', 'Docket', 'Location', '1st Weigh', '2nd Weigh', 'Stored tare?',\n",
       "       'Rego', 'Account code', 'Product Code', 'Product name', 'Gross (t)',\n",
       "       'Tare (t)', 'Net (t)', 'Amount ex gst ($)', 'Price per unit'],\n",
       "      dtype='object')"
      ]
     },
     "execution_count": 28,
     "metadata": {},
     "output_type": "execute_result"
    }
   ],
   "source": [
    "df.columns"
   ]
  },
  {
   "cell_type": "code",
   "execution_count": 29,
   "id": "4a89ddd3",
   "metadata": {},
   "outputs": [],
   "source": [
    "server = 'localhost' \n",
    "database = 'STAGE_1_DB'\n",
    "username = 'SA' \n",
    "password = 'Sydwaste123#'\n",
    "\n",
    "cnxn = pyodbc.connect('DRIVER={SQL Server};SERVER='+server+';DATABASE='+database+';UID='+username+';PWD='+ password)\n",
    "\n",
    "cursor = cnxn.cursor()\n",
    "\n",
    "for index, row in df.iterrows():\n",
    "    cursor.execute(\"INSERT INTO STAGE_1_DB.SUEZ_TIPPING_SCH_1.SUEZ_TIPPING_TB_1 \\\n",
    "    (Date,Docket,Location,First_Weigh,Second_Weigh,\\\n",
    "    IsStored_tare,Rego,Account_code,Product_code,\\\n",
    "    Product_name,Gross_t,Tare_t,Net_t,Amount_ex_gst,Price_per_unit) \\\n",
    "    values(?,?,?,?,?,?,?,?,?,?,?,?,?,?,?)\",\n",
    "                    row.Date,\n",
    "                    row[\"Docket\"],\n",
    "                    row[\"Location\"],\n",
    "                    row[\"1st Weigh\"],\n",
    "                    row[\"2nd Weigh\"],\n",
    "                    row[\"Stored tare?\"],\n",
    "                    row[\"Rego\"],\n",
    "                    row[\"Account code\"],\n",
    "                    row[\"Product Code\"],\n",
    "                    row[\"Product name\"],\n",
    "                    row[\"Gross (t)\"],\n",
    "                    row[\"Tare (t)\"],\n",
    "                    row[\"Net (t)\"],\n",
    "                    row[\"Amount ex gst ($)\"],\n",
    "                    row[\"Price per unit\"])\n",
    "cnxn.commit()\n",
    "cursor.close()\n",
    "cnxn.close()"
   ]
  },
  {
   "cell_type": "code",
   "execution_count": null,
   "id": "33b18a50",
   "metadata": {},
   "outputs": [],
   "source": []
  },
  {
   "cell_type": "code",
   "execution_count": null,
   "id": "13d1c797",
   "metadata": {},
   "outputs": [],
   "source": []
  },
  {
   "cell_type": "code",
   "execution_count": null,
   "id": "9e51c11f",
   "metadata": {},
   "outputs": [],
   "source": []
  },
  {
   "cell_type": "code",
   "execution_count": null,
   "id": "3101e247",
   "metadata": {},
   "outputs": [],
   "source": []
  },
  {
   "cell_type": "code",
   "execution_count": null,
   "id": "5d7174f5",
   "metadata": {},
   "outputs": [],
   "source": []
  }
 ],
 "metadata": {
  "kernelspec": {
   "display_name": "Python 3",
   "language": "python",
   "name": "python3"
  },
  "language_info": {
   "codemirror_mode": {
    "name": "ipython",
    "version": 3
   },
   "file_extension": ".py",
   "mimetype": "text/x-python",
   "name": "python",
   "nbconvert_exporter": "python",
   "pygments_lexer": "ipython3",
   "version": "3.8.8"
  }
 },
 "nbformat": 4,
 "nbformat_minor": 5
}
